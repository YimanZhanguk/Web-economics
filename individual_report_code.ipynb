{
 "cells": [
  {
   "cell_type": "markdown",
   "metadata": {},
   "source": [
    "## Web Economic CW"
   ]
  },
  {
   "cell_type": "markdown",
   "metadata": {},
   "source": []
  },
  {
   "cell_type": "code",
   "execution_count": 101,
   "metadata": {
    "collapsed": false
   },
   "outputs": [],
   "source": [
    "import numpy as np\n",
    "import pandas as pd\n",
    "from sklearn.ensemble import RandomForestClassifier\n",
    "from sklearn import preprocessing\n",
    "from sklearn import metrics\n",
    "from pyfm import pylibfm\n",
    "\n",
    "pd.options.mode.chained_assignment = None  # default='warn'"
   ]
  },
  {
   "cell_type": "code",
   "execution_count": 102,
   "metadata": {
    "collapsed": false
   },
   "outputs": [],
   "source": [
    "#Read CSV data\n",
    "df_train = pd.read_csv('/Users/zhangyiman/Desktop/dataset/train.csv')\n",
    "df_test = pd.read_csv('/Users/zhangyiman/Desktop/dataset/test.csv')\n",
    "df_validation = pd.read_csv('/Users/zhangyiman/Desktop/dataset/validation.csv')\n",
    "# raw_data = pd.read_csv('train.csv', header=None, sep=',')"
   ]
  },
  {
   "cell_type": "code",
   "execution_count": 103,
   "metadata": {
    "collapsed": false
   },
   "outputs": [],
   "source": [
    "#df_train['click'].value_counts()/ df_train.shape[0]"
   ]
  },
  {
   "cell_type": "code",
   "execution_count": 104,
   "metadata": {
    "collapsed": false
   },
   "outputs": [],
   "source": [
    "#df_train['click'].value_counts()"
   ]
  },
  {
   "cell_type": "code",
   "execution_count": 105,
   "metadata": {
    "collapsed": false
   },
   "outputs": [],
   "source": [
    "#df_train.info()"
   ]
  },
  {
   "cell_type": "code",
   "execution_count": 106,
   "metadata": {
    "collapsed": false
   },
   "outputs": [
    {
     "data": {
      "text/html": [
       "<div>\n",
       "<table border=\"1\" class=\"dataframe\">\n",
       "  <thead>\n",
       "    <tr style=\"text-align: right;\">\n",
       "      <th></th>\n",
       "      <th>click</th>\n",
       "      <th>weekday</th>\n",
       "      <th>hour</th>\n",
       "      <th>logtype</th>\n",
       "      <th>region</th>\n",
       "      <th>city</th>\n",
       "      <th>slotwidth</th>\n",
       "      <th>slotheight</th>\n",
       "      <th>slotprice</th>\n",
       "      <th>bidprice</th>\n",
       "      <th>payprice</th>\n",
       "      <th>advertiser</th>\n",
       "    </tr>\n",
       "  </thead>\n",
       "  <tbody>\n",
       "    <tr>\n",
       "      <th>count</th>\n",
       "      <td>2.697738e+06</td>\n",
       "      <td>2.697738e+06</td>\n",
       "      <td>2.697738e+06</td>\n",
       "      <td>2697738.0</td>\n",
       "      <td>2.697738e+06</td>\n",
       "      <td>2.697738e+06</td>\n",
       "      <td>2.697738e+06</td>\n",
       "      <td>2.697738e+06</td>\n",
       "      <td>2.697738e+06</td>\n",
       "      <td>2.697738e+06</td>\n",
       "      <td>2.697738e+06</td>\n",
       "      <td>2.697738e+06</td>\n",
       "    </tr>\n",
       "    <tr>\n",
       "      <th>mean</th>\n",
       "      <td>7.539650e-04</td>\n",
       "      <td>2.891155e+00</td>\n",
       "      <td>1.346598e+01</td>\n",
       "      <td>1.0</td>\n",
       "      <td>1.494494e+02</td>\n",
       "      <td>1.543936e+02</td>\n",
       "      <td>5.756453e+02</td>\n",
       "      <td>1.888990e+02</td>\n",
       "      <td>2.648484e+01</td>\n",
       "      <td>2.724582e+02</td>\n",
       "      <td>8.025102e+01</td>\n",
       "      <td>2.847232e+03</td>\n",
       "    </tr>\n",
       "    <tr>\n",
       "      <th>std</th>\n",
       "      <td>2.744807e-02</td>\n",
       "      <td>2.053776e+00</td>\n",
       "      <td>6.592290e+00</td>\n",
       "      <td>0.0</td>\n",
       "      <td>1.020496e+02</td>\n",
       "      <td>1.032899e+02</td>\n",
       "      <td>3.212459e+02</td>\n",
       "      <td>1.308906e+02</td>\n",
       "      <td>3.703962e+01</td>\n",
       "      <td>2.910801e+01</td>\n",
       "      <td>6.236699e+01</td>\n",
       "      <td>7.821371e+02</td>\n",
       "    </tr>\n",
       "    <tr>\n",
       "      <th>min</th>\n",
       "      <td>0.000000e+00</td>\n",
       "      <td>0.000000e+00</td>\n",
       "      <td>0.000000e+00</td>\n",
       "      <td>1.0</td>\n",
       "      <td>0.000000e+00</td>\n",
       "      <td>0.000000e+00</td>\n",
       "      <td>1.200000e+02</td>\n",
       "      <td>5.000000e+01</td>\n",
       "      <td>0.000000e+00</td>\n",
       "      <td>2.270000e+02</td>\n",
       "      <td>0.000000e+00</td>\n",
       "      <td>1.458000e+03</td>\n",
       "    </tr>\n",
       "    <tr>\n",
       "      <th>25%</th>\n",
       "      <td>0.000000e+00</td>\n",
       "      <td>1.000000e+00</td>\n",
       "      <td>1.000000e+01</td>\n",
       "      <td>1.0</td>\n",
       "      <td>7.900000e+01</td>\n",
       "      <td>7.900000e+01</td>\n",
       "      <td>3.000000e+02</td>\n",
       "      <td>9.000000e+01</td>\n",
       "      <td>0.000000e+00</td>\n",
       "      <td>2.410000e+02</td>\n",
       "      <td>3.300000e+01</td>\n",
       "      <td>2.259000e+03</td>\n",
       "    </tr>\n",
       "    <tr>\n",
       "      <th>50%</th>\n",
       "      <td>0.000000e+00</td>\n",
       "      <td>3.000000e+00</td>\n",
       "      <td>1.400000e+01</td>\n",
       "      <td>1.0</td>\n",
       "      <td>1.460000e+02</td>\n",
       "      <td>1.520000e+02</td>\n",
       "      <td>3.360000e+02</td>\n",
       "      <td>9.000000e+01</td>\n",
       "      <td>5.000000e+00</td>\n",
       "      <td>2.940000e+02</td>\n",
       "      <td>7.000000e+01</td>\n",
       "      <td>3.358000e+03</td>\n",
       "    </tr>\n",
       "    <tr>\n",
       "      <th>75%</th>\n",
       "      <td>0.000000e+00</td>\n",
       "      <td>5.000000e+00</td>\n",
       "      <td>1.900000e+01</td>\n",
       "      <td>1.0</td>\n",
       "      <td>2.160000e+02</td>\n",
       "      <td>2.220000e+02</td>\n",
       "      <td>9.600000e+02</td>\n",
       "      <td>2.500000e+02</td>\n",
       "      <td>5.000000e+01</td>\n",
       "      <td>3.000000e+02</td>\n",
       "      <td>1.010000e+02</td>\n",
       "      <td>3.427000e+03</td>\n",
       "    </tr>\n",
       "    <tr>\n",
       "      <th>max</th>\n",
       "      <td>1.000000e+00</td>\n",
       "      <td>6.000000e+00</td>\n",
       "      <td>2.300000e+01</td>\n",
       "      <td>1.0</td>\n",
       "      <td>3.950000e+02</td>\n",
       "      <td>3.990000e+02</td>\n",
       "      <td>1.000000e+03</td>\n",
       "      <td>6.000000e+02</td>\n",
       "      <td>3.000000e+02</td>\n",
       "      <td>3.000000e+02</td>\n",
       "      <td>3.000000e+02</td>\n",
       "      <td>3.476000e+03</td>\n",
       "    </tr>\n",
       "  </tbody>\n",
       "</table>\n",
       "</div>"
      ],
      "text/plain": [
       "              click       weekday          hour    logtype        region  \\\n",
       "count  2.697738e+06  2.697738e+06  2.697738e+06  2697738.0  2.697738e+06   \n",
       "mean   7.539650e-04  2.891155e+00  1.346598e+01        1.0  1.494494e+02   \n",
       "std    2.744807e-02  2.053776e+00  6.592290e+00        0.0  1.020496e+02   \n",
       "min    0.000000e+00  0.000000e+00  0.000000e+00        1.0  0.000000e+00   \n",
       "25%    0.000000e+00  1.000000e+00  1.000000e+01        1.0  7.900000e+01   \n",
       "50%    0.000000e+00  3.000000e+00  1.400000e+01        1.0  1.460000e+02   \n",
       "75%    0.000000e+00  5.000000e+00  1.900000e+01        1.0  2.160000e+02   \n",
       "max    1.000000e+00  6.000000e+00  2.300000e+01        1.0  3.950000e+02   \n",
       "\n",
       "               city     slotwidth    slotheight     slotprice      bidprice  \\\n",
       "count  2.697738e+06  2.697738e+06  2.697738e+06  2.697738e+06  2.697738e+06   \n",
       "mean   1.543936e+02  5.756453e+02  1.888990e+02  2.648484e+01  2.724582e+02   \n",
       "std    1.032899e+02  3.212459e+02  1.308906e+02  3.703962e+01  2.910801e+01   \n",
       "min    0.000000e+00  1.200000e+02  5.000000e+01  0.000000e+00  2.270000e+02   \n",
       "25%    7.900000e+01  3.000000e+02  9.000000e+01  0.000000e+00  2.410000e+02   \n",
       "50%    1.520000e+02  3.360000e+02  9.000000e+01  5.000000e+00  2.940000e+02   \n",
       "75%    2.220000e+02  9.600000e+02  2.500000e+02  5.000000e+01  3.000000e+02   \n",
       "max    3.990000e+02  1.000000e+03  6.000000e+02  3.000000e+02  3.000000e+02   \n",
       "\n",
       "           payprice    advertiser  \n",
       "count  2.697738e+06  2.697738e+06  \n",
       "mean   8.025102e+01  2.847232e+03  \n",
       "std    6.236699e+01  7.821371e+02  \n",
       "min    0.000000e+00  1.458000e+03  \n",
       "25%    3.300000e+01  2.259000e+03  \n",
       "50%    7.000000e+01  3.358000e+03  \n",
       "75%    1.010000e+02  3.427000e+03  \n",
       "max    3.000000e+02  3.476000e+03  "
      ]
     },
     "execution_count": 106,
     "metadata": {},
     "output_type": "execute_result"
    }
   ],
   "source": [
    "df_train.describe()"
   ]
  },
  {
   "cell_type": "markdown",
   "metadata": {},
   "source": [
    "## data exploration"
   ]
  },
  {
   "cell_type": "markdown",
   "metadata": {},
   "source": [
    "### single column"
   ]
  },
  {
   "cell_type": "code",
   "execution_count": 108,
   "metadata": {
    "collapsed": true
   },
   "outputs": [],
   "source": [
    "import seaborn as sns\n",
    "import matplotlib.pyplot as plt\n",
    "%matplotlib inline"
   ]
  },
  {
   "cell_type": "code",
   "execution_count": 109,
   "metadata": {
    "collapsed": false
   },
   "outputs": [
    {
     "data": {
      "image/png": "[encoded data removed]",
      "text/plain": [
       "<matplotlib.figure.Figure at 0x2009f40f0>"
      ]
     },
     "metadata": {},
     "output_type": "display_data"
    }
   ],
   "source": [
    "data = [2695704,2034]\n",
    "x = [0,1]\n",
    "\n",
    "plt.bar(x,data,0.1,color=\"green\")  \n",
    "\n",
    "plt.xlabel(\"X-axis\")  \n",
    "plt.ylabel(\"Y-axis\")  \n",
    "plt.title(\"click or not\")  \n",
    "    \n",
    "plt.show() "
   ]
  },
  {
   "cell_type": "code",
   "execution_count": 110,
   "metadata": {
    "collapsed": false
   },
   "outputs": [
    {
     "data": {
      "image/png": "[encoded data removed]",
      "text/plain": [
       "<matplotlib.figure.Figure at 0x200998ba8>"
      ]
     },
     "metadata": {},
     "output_type": "display_data"
    }
   ],
   "source": [
    "sns.distplot(df_train['weekday'], kde=False)\n",
    "#sns.distplot(df_train['weekday'])\n",
    "sns.plt.show()"
   ]
  },
  {
   "cell_type": "code",
   "execution_count": 111,
   "metadata": {
    "collapsed": false
   },
   "outputs": [
    {
     "data": {
      "image/png": "[encoded data removed]",
      "text/plain": [
       "<matplotlib.figure.Figure at 0x20047ed68>"
      ]
     },
     "metadata": {},
     "output_type": "display_data"
    }
   ],
   "source": [
    "sns.distplot(df_train['hour'], kde=False)\n",
    "sns.plt.show()"
   ]
  },
  {
   "cell_type": "code",
   "execution_count": 112,
   "metadata": {
    "collapsed": false
   },
   "outputs": [
    {
     "data": {
      "image/png": "[encoded data removed]",
      "text/plain": [
       "<matplotlib.figure.Figure at 0x200163b38>"
      ]
     },
     "metadata": {},
     "output_type": "display_data"
    }
   ],
   "source": [
    "sns.distplot(df_train['bidprice'], kde=False)\n",
    "sns.plt.show()"
   ]
  },
  {
   "cell_type": "code",
   "execution_count": 113,
   "metadata": {
    "collapsed": false
   },
   "outputs": [
    {
     "data": {
      "image/png": "[encoded data removed]",
      "text/plain": [
       "<matplotlib.figure.Figure at 0x20063cba8>"
      ]
     },
     "metadata": {},
     "output_type": "display_data"
    }
   ],
   "source": [
    "sns.distplot(df_train['payprice'], kde=False)\n",
    "sns.plt.show()"
   ]
  },
  {
   "cell_type": "code",
   "execution_count": 114,
   "metadata": {
    "collapsed": false
   },
   "outputs": [
    {
     "data": {
      "image/png": "[encoded data removed]",
      "text/plain": [
       "<matplotlib.figure.Figure at 0x200bcd9b0>"
      ]
     },
     "metadata": {},
     "output_type": "display_data"
    }
   ],
   "source": [
    "sns.pairplot(df_train, vars=['click', 'weekday'])\n",
    "sns.plt.show()"
   ]
  },
  {
   "cell_type": "code",
   "execution_count": 115,
   "metadata": {
    "collapsed": false
   },
   "outputs": [
    {
     "data": {
      "image/png": "[encoded data removed]",
      "text/plain": [
       "<matplotlib.figure.Figure at 0x200bc8898>"
      ]
     },
     "metadata": {},
     "output_type": "display_data"
    }
   ],
   "source": [
    "import numpy as np, pandas as pd; np.random.seed(0)\n",
    "import seaborn as sns; sns.set(style=\"white\", color_codes=True)\n",
    "g = sns.jointplot(x=\"weekday\", y=\"click\", data=df_train)"
   ]
  },
  {
   "cell_type": "code",
   "execution_count": 116,
   "metadata": {
    "collapsed": true
   },
   "outputs": [],
   "source": [
    "weekday_1 = 0\n",
    "weekday_2 = 0\n",
    "weekday_3 = 0\n",
    "weekday_4 = 0\n",
    "weekday_5 = 0\n",
    "weekday_6 = 0\n",
    "weekday_7 = 0\n",
    "for i in range(0,df_train.shape[0]):\n",
    "    if df_train['click'][i] == 1:\n",
    "        m = int(df_train['weekday'][i])\n",
    "        if m == 0:\n",
    "            weekday_1 = weekday_1 + 1\n",
    "        if m == 1:\n",
    "            weekday_2 = weekday_2 + 1\n",
    "        if m == 2:\n",
    "            weekday_3 = weekday_3 + 1\n",
    "        if m == 3:\n",
    "            weekday_4 = weekday_4 + 1\n",
    "        if m == 4:\n",
    "            weekday_5 = weekday_5 + 1\n",
    "        if m == 5:\n",
    "            weekday_6 = weekday_6 + 1\n",
    "        if m == 6:\n",
    "            weekday_7 = weekday_7 + 1\n",
    "\n"
   ]
  },
  {
   "cell_type": "code",
   "execution_count": 117,
   "metadata": {
    "collapsed": true
   },
   "outputs": [],
   "source": [
    "day_1 = 0\n",
    "day_2 = 0\n",
    "day_3 = 0\n",
    "day_4 = 0\n",
    "day_5 = 0\n",
    "day_6 = 0\n",
    "day_7 = 0\n",
    "for i in range(0,df_train.shape[0]):\n",
    "    if df_train['click'][i] == 0:\n",
    "        m = int(df_train['weekday'][i])\n",
    "        if m == 0:\n",
    "            day_1 = day_1 + 1\n",
    "        if m == 1:\n",
    "            day_2 = day_2 + 1\n",
    "        if m == 2:\n",
    "            day_3 = day_3 + 1\n",
    "        if m == 3:\n",
    "            day_4 = day_4 + 1\n",
    "        if m == 4:\n",
    "            day_5 = day_5 + 1\n",
    "        if m == 5:\n",
    "            day_6 = day_6 + 1\n",
    "        if m == 6:\n",
    "            day_7 = day_7 + 1"
   ]
  },
  {
   "cell_type": "code",
   "execution_count": 118,
   "metadata": {
    "collapsed": false
   },
   "outputs": [
    {
     "data": {
      "image/png": "[encoded data removed]",
      "text/plain": [
       "<matplotlib.figure.Figure at 0x200f91588>"
      ]
     },
     "metadata": {},
     "output_type": "display_data"
    },
    {
     "data": {
      "image/png": "[encoded data removed]",
      "text/plain": [
       "<matplotlib.figure.Figure at 0x201bf1f98>"
      ]
     },
     "metadata": {},
     "output_type": "display_data"
    }
   ],
   "source": [
    "\n",
    "data = [weekday_1,weekday_2,weekday_3,weekday_4,weekday_5,weekday_6,weekday_7]\n",
    "x = [1,2,3,4,5,6,7]\n",
    "data2 = [day_1,day_2,day_3,day_4,day_5,day_6,day_7]\n",
    "x = [1,2,3,4,5,6,7]\n",
    "#plt.bar(x,data,0.1,color=\"green\")  \n",
    "\n",
    "#plt.xlabel(\"X-axis\")  \n",
    "#plt.ylabel(\"Y-axis\")  \n",
    "plt.title(\"click num for weekday\")  \n",
    "plt.plot(x, data2, color = 'g')\n",
    "plt.show() \n",
    "plt.title(\"not click num for weekday\") \n",
    "plt.plot(x, data, color = 'r')\n",
    "plt.show() "
   ]
  },
  {
   "cell_type": "code",
   "execution_count": 119,
   "metadata": {
    "collapsed": true
   },
   "outputs": [],
   "source": [
    "df_train_1 = df_train[df_train['click'] == 1]\n",
    "df_train_0 = df_train[df_train['click'] == 0]"
   ]
  },
  {
   "cell_type": "code",
   "execution_count": 120,
   "metadata": {
    "collapsed": false
   },
   "outputs": [
    {
     "data": {
      "image/png": "[encoded data removed]",
      "text/plain": [
       "<matplotlib.figure.Figure at 0x2012a1e10>"
      ]
     },
     "metadata": {},
     "output_type": "display_data"
    }
   ],
   "source": [
    "sns.distplot(df_train_1['hour'], kde=False)\n",
    "sns.plt.show()"
   ]
  },
  {
   "cell_type": "code",
   "execution_count": 121,
   "metadata": {
    "collapsed": false
   },
   "outputs": [
    {
     "data": {
      "image/png": "[encoded data removed]",
      "text/plain": [
       "<matplotlib.figure.Figure at 0x201be4b70>"
      ]
     },
     "metadata": {},
     "output_type": "display_data"
    }
   ],
   "source": [
    "sns.distplot(df_train_0['hour'], kde=False)\n",
    "sns.plt.show()"
   ]
  },
  {
   "cell_type": "code",
   "execution_count": 122,
   "metadata": {
    "collapsed": false
   },
   "outputs": [
    {
     "data": {
      "image/png": "[encoded data removed]",
      "text/plain": [
       "<matplotlib.figure.Figure at 0x200a87978>"
      ]
     },
     "metadata": {},
     "output_type": "display_data"
    }
   ],
   "source": [
    "sns.distplot(df_train_1['region'], kde=False)\n",
    "sns.plt.show()"
   ]
  },
  {
   "cell_type": "code",
   "execution_count": 123,
   "metadata": {
    "collapsed": false
   },
   "outputs": [
    {
     "data": {
      "image/png": "[encoded data removed]",
      "text/plain": [
       "<matplotlib.figure.Figure at 0x12478f7f0>"
      ]
     },
     "metadata": {},
     "output_type": "display_data"
    }
   ],
   "source": [
    "sns.distplot(df_train_0['region'], kde=False)\n",
    "sns.plt.show()"
   ]
  },
  {
   "cell_type": "code",
   "execution_count": 124,
   "metadata": {
    "collapsed": false
   },
   "outputs": [
    {
     "data": {
      "image/png": "[encoded data removed]",
      "text/plain": [
       "<matplotlib.figure.Figure at 0x1ffc84d30>"
      ]
     },
     "metadata": {},
     "output_type": "display_data"
    }
   ],
   "source": [
    "sns.distplot(df_train_1['city'], kde=False)\n",
    "sns.plt.show()"
   ]
  },
  {
   "cell_type": "code",
   "execution_count": 125,
   "metadata": {
    "collapsed": false
   },
   "outputs": [
    {
     "data": {
      "image/png": "[encoded data removed]",
      "text/plain": [
       "<matplotlib.figure.Figure at 0x201de2d30>"
      ]
     },
     "metadata": {},
     "output_type": "display_data"
    }
   ],
   "source": [
    "sns.distplot(df_train_0['city'], kde=False)\n",
    "sns.plt.show()"
   ]
  },
  {
   "cell_type": "code",
   "execution_count": 126,
   "metadata": {
    "collapsed": false
   },
   "outputs": [
    {
     "data": {
      "image/png": "[encoded data removed]",
      "text/plain": [
       "<matplotlib.figure.Figure at 0x200a565f8>"
      ]
     },
     "metadata": {},
     "output_type": "display_data"
    }
   ],
   "source": [
    "sns.distplot(df_train_1['slotwidth'], kde=False)\n",
    "sns.plt.show()"
   ]
  },
  {
   "cell_type": "code",
   "execution_count": 127,
   "metadata": {
    "collapsed": false
   },
   "outputs": [
    {
     "data": {
      "image/png": "[encoded data removed]",
      "text/plain": [
       "<matplotlib.figure.Figure at 0x20063bb00>"
      ]
     },
     "metadata": {},
     "output_type": "display_data"
    }
   ],
   "source": [
    "sns.distplot(df_train_1['slotheight'], kde=False)\n",
    "sns.plt.show()"
   ]
  },
  {
   "cell_type": "code",
   "execution_count": 128,
   "metadata": {
    "collapsed": false
   },
   "outputs": [
    {
     "data": {
      "image/png": "[encoded data removed]",
      "text/plain": [
       "<matplotlib.figure.Figure at 0x200151fd0>"
      ]
     },
     "metadata": {},
     "output_type": "display_data"
    }
   ],
   "source": [
    "sns.distplot(df_train_1['slotprice'], kde=False)\n",
    "sns.plt.show()"
   ]
  },
  {
   "cell_type": "code",
   "execution_count": 129,
   "metadata": {
    "collapsed": false
   },
   "outputs": [
    {
     "data": {
      "image/png": "[encoded data removed]",
      "text/plain": [
       "<matplotlib.figure.Figure at 0x200cd3780>"
      ]
     },
     "metadata": {},
     "output_type": "display_data"
    }
   ],
   "source": [
    "sns.distplot(df_train_1['bidprice'], kde=False)\n",
    "sns.plt.show()"
   ]
  },
  {
   "cell_type": "code",
   "execution_count": 130,
   "metadata": {
    "collapsed": false
   },
   "outputs": [
    {
     "data": {
      "image/png": "[encoded data removed]",
      "text/plain": [
       "<matplotlib.figure.Figure at 0x200573ef0>"
      ]
     },
     "metadata": {},
     "output_type": "display_data"
    }
   ],
   "source": [
    "sns.distplot(df_train_1['payprice'], kde=False)\n",
    "sns.plt.show()"
   ]
  },
  {
   "cell_type": "code",
   "execution_count": 131,
   "metadata": {
    "collapsed": false
   },
   "outputs": [
    {
     "data": {
      "text/plain": [
       "0    2695704\n",
       "1       2034\n",
       "Name: click, dtype: int64"
      ]
     },
     "execution_count": 131,
     "metadata": {},
     "output_type": "execute_result"
    }
   ],
   "source": [
    "df_train['click'].value_counts()"
   ]
  },
  {
   "cell_type": "code",
   "execution_count": 132,
   "metadata": {
    "collapsed": false
   },
   "outputs": [
    {
     "data": {
      "text/plain": [
       "1458    540293\n",
       "3386    498554\n",
       "3427    454031\n",
       "3476    346778\n",
       "3358    304782\n",
       "2821    231416\n",
       "2259    146778\n",
       "2261    120619\n",
       "2997     54487\n",
       "Name: advertiser, dtype: int64"
      ]
     },
     "execution_count": 132,
     "metadata": {},
     "output_type": "execute_result"
    }
   ],
   "source": [
    "df_train['advertiser'].value_counts()\n",
    "#df_train['click'].value_counts()"
   ]
  },
  {
   "cell_type": "code",
   "execution_count": null,
   "metadata": {
    "collapsed": true
   },
   "outputs": [],
   "source": [
    "advertiser_1 = [0,0,0,0,0,0,0]\n",
    "advertiser_2 = [0,0,0,0,0,0,0]\n",
    "advertiser_3 = [0,0,0,0,0,0,0]\n",
    "advertiser_4 = [0,0,0,0,0,0,0]\n",
    "advertiser_5 = [0,0,0,0,0,0,0]\n",
    "advertiser_6 = [0,0,0,0,0,0,0]\n",
    "advertiser_7 = [0,0,0,0,0,0,0]\n",
    "advertiser_8 = [0,0,0,0,0,0,0]\n",
    "advertiser_9 = [0,0,0,0,0,0,0]\n",
    "\n",
    "for i in range(0,df_train.shape[0]):\n",
    "    if df_train['click'][i] == 0:\n",
    "        if df_train['advertiser'][i] == 1458:\n",
    "            m = int(df_train['weekday'][i])\n",
    "            advertiser_1[m] = advertiser_1[m]+1\n",
    "        if df_train['advertiser'][i] == 3386:\n",
    "            m = int(df_train['weekday'][i])\n",
    "            advertiser_2[m] = advertiser_2[m]+1\n",
    "        if df_train['advertiser'][i] == 3427:\n",
    "            m = int(df_train['weekday'][i])\n",
    "            advertiser_3[m] = advertiser_3[m]+1\n",
    "        if df_train['advertiser'][i] == 3476:\n",
    "            m = int(df_train['weekday'][i])\n",
    "            advertiser_4[m] = advertiser_4[m]+1\n",
    "        if df_train['advertiser'][i] == 3358:\n",
    "            m = int(df_train['weekday'][i])\n",
    "            advertiser_5[m] = advertiser_5[m]+1\n",
    "        if df_train['advertiser'][i] == 2821:\n",
    "            m = int(df_train['weekday'][i])\n",
    "            advertiser_6[m] = advertiser_6[m]+1\n",
    "        if df_train['advertiser'][i] == 2259:\n",
    "            m = int(df_train['weekday'][i])\n",
    "            advertiser_7[m] = advertiser_7[m]+1\n",
    "        if df_train['advertiser'][i] == 2261:\n",
    "            m = int(df_train['weekday'][i])\n",
    "            advertiser_8[m] = advertiser_8[m]+1\n",
    "        if df_train['advertiser'][i] == 2997:\n",
    "            m = int(df_train['weekday'][i])\n",
    "            advertiser_9[m] = advertiser_9[m]+1\n",
    "\n"
   ]
  },
  {
   "cell_type": "code",
   "execution_count": null,
   "metadata": {
    "collapsed": true
   },
   "outputs": [],
   "source": [
    "x = [1,2,3,4,5,6,7]\n",
    "data1 = [advertiser_1[0],advertiser_1[1],advertiser_1[2],advertiser_1[3],advertiser_1[4],advertiser_1[5],advertiser_1[6]]\n",
    "data2 = [advertiser_2[0],advertiser_2[1],advertiser_2[2],advertiser_2[3],advertiser_2[4],advertiser_2[5],advertiser_2[6]]\n",
    "data3 = [advertiser_3[0],advertiser_3[1],advertiser_3[2],advertiser_3[3],advertiser_3[4],advertiser_3[5],advertiser_3[6]]\n",
    "data4 = [advertiser_4[0],advertiser_4[1],advertiser_4[2],advertiser_4[3],advertiser_4[4],advertiser_4[5],advertiser_4[6]]\n",
    "data5 = [advertiser_5[0],advertiser_5[1],advertiser_5[2],advertiser_5[3],advertiser_5[4],advertiser_5[5],advertiser_5[6]]\n",
    "data6 = [advertiser_6[0],advertiser_6[1],advertiser_6[2],advertiser_6[3],advertiser_6[4],advertiser_6[5],advertiser_6[6]]\n",
    "data7 = [advertiser_7[0],advertiser_7[1],advertiser_7[2],advertiser_7[3],advertiser_7[4],advertiser_7[5],advertiser_7[6]]\n",
    "data8 = [advertiser_8[0],advertiser_8[1],advertiser_8[2],advertiser_8[3],advertiser_8[4],advertiser_8[5],advertiser_8[6]]\n",
    "data9 = [advertiser_9[0],advertiser_9[1],advertiser_9[2],advertiser_9[3],advertiser_9[4],advertiser_9[5],advertiser_9[6]]\n",
    "\n",
    "plt.plot(x,data1,'g',label = 'advertiser = 1458')\n",
    "plt.plot(x,data2,'r',label = 'advertiser = 3386')\n",
    "plt.plot(x,data3,'y',label = 'advertiser = 3427')\n",
    "plt.plot(x,data4,'b',label = 'advertiser = 3476')\n",
    "plt.plot(x,data5,'c',label = 'advertiser = 3358')\n",
    "plt.plot(x,data6,'m',label = 'advertiser = 2821')\n",
    "plt.plot(x,data7,'k',label = 'advertiser = 2259')\n",
    "plt.plot(x,data8,'r',label = 'advertiser = 2261')\n",
    "plt.plot(x,data9,'g',label = 'advertiser = 2997')\n",
    "plt.title(\"click num for weekday-- for different advertisers\") \n",
    "plt.legend()"
   ]
  },
  {
   "cell_type": "code",
   "execution_count": null,
   "metadata": {
    "collapsed": true
   },
   "outputs": [],
   "source": [
    "advertiser_1 = [0,0,0,0,0,0,0,0,0,0,0,0,0,0,0,0,0,0,0,0,0,0,0,0]\n",
    "advertiser_2 = [0,0,0,0,0,0,0,0,0,0,0,0,0,0,0,0,0,0,0,0,0,0,0,0]\n",
    "advertiser_3 = [0,0,0,0,0,0,0,0,0,0,0,0,0,0,0,0,0,0,0,0,0,0,0,0]\n",
    "advertiser_4 = [0,0,0,0,0,0,0,0,0,0,0,0,0,0,0,0,0,0,0,0,0,0,0,0]\n",
    "advertiser_5 = [0,0,0,0,0,0,0,0,0,0,0,0,0,0,0,0,0,0,0,0,0,0,0,0]\n",
    "advertiser_6 = [0,0,0,0,0,0,0,0,0,0,0,0,0,0,0,0,0,0,0,0,0,0,0,0]\n",
    "advertiser_7 = [0,0,0,0,0,0,0,0,0,0,0,0,0,0,0,0,0,0,0,0,0,0,0,0]\n",
    "advertiser_8 = [0,0,0,0,0,0,0,0,0,0,0,0,0,0,0,0,0,0,0,0,0,0,0,0]\n",
    "advertiser_9 = [0,0,0,0,0,0,0,0,0,0,0,0,0,0,0,0,0,0,0,0,0,0,0,0]\n",
    "\n",
    "for i in range(0,df_train.shape[0]):\n",
    "    if df_train['click'][i] == 0:\n",
    "        m = int(df_train['hour'][i])\n",
    "        if df_train['advertiser'][i] == 1458:\n",
    "            advertiser_1[m] = advertiser_1[m]+1\n",
    "        if df_train['advertiser'][i] == 3386:\n",
    "            advertiser_2[m] = advertiser_2[m]+1\n",
    "        if df_train['advertiser'][i] == 3427:\n",
    "            advertiser_3[m] = advertiser_3[m]+1\n",
    "        if df_train['advertiser'][i] == 3476:\n",
    "            advertiser_4[m] = advertiser_4[m]+1\n",
    "        if df_train['advertiser'][i] == 3358:\n",
    "            advertiser_5[m] = advertiser_5[m]+1\n",
    "        if df_train['advertiser'][i] == 2821:\n",
    "            advertiser_6[m] = advertiser_6[m]+1\n",
    "        if df_train['advertiser'][i] == 2259:\n",
    "            advertiser_7[m] = advertiser_7[m]+1\n",
    "        if df_train['advertiser'][i] == 2261:\n",
    "            advertiser_8[m] = advertiser_8[m]+1\n",
    "        if df_train['advertiser'][i] == 2997:\n",
    "            advertiser_9[m] = advertiser_9[m]+1\n",
    "\n"
   ]
  },
  {
   "cell_type": "code",
   "execution_count": null,
   "metadata": {
    "collapsed": true
   },
   "outputs": [],
   "source": [
    "x = [1,2,3,4,5,6,7,8,9,10,11,12,13,14,15,16,17,18,19,20,21,22,23,24]\n",
    "\n",
    "plt.plot(x,advertiser_1,'g',label = 'advertiser = 1458')\n",
    "plt.plot(x,advertiser_2,'r',label = 'advertiser = 3386')\n",
    "plt.plot(x,advertiser_3,'y',label = 'advertiser = 3427')\n",
    "plt.plot(x,advertiser_4,'b',label = 'advertiser = 3476')\n",
    "plt.plot(x,advertiser_5,'c',label = 'advertiser = 3358')\n",
    "plt.plot(x,advertiser_6,'m',label = 'advertiser = 2821')\n",
    "plt.plot(x,advertiser_7,'k',label = 'advertiser = 2259')\n",
    "plt.plot(x,advertiser_8,'r',label = 'advertiser = 2261')\n",
    "plt.plot(x,advertiser_9,'g',label = 'advertiser = 2997')\n",
    "plt.title(\"click num for hours-- for different advertisers\") \n",
    "plt.legend()"
   ]
  },
  {
   "cell_type": "code",
   "execution_count": null,
   "metadata": {
    "collapsed": true
   },
   "outputs": [],
   "source": []
  },
  {
   "cell_type": "markdown",
   "metadata": {},
   "source": [
    "## Downsampling"
   ]
  },
  {
   "cell_type": "code",
   "execution_count": 13,
   "metadata": {
    "collapsed": false
   },
   "outputs": [],
   "source": [
    "df_train_0 = df_train[df_train['click'] == 0]\n",
    "df_train_1 = df_train[df_train['click'] == 1]"
   ]
  },
  {
   "cell_type": "code",
   "execution_count": 14,
   "metadata": {
    "collapsed": false
   },
   "outputs": [],
   "source": [
    "df_train_0 = df_train_0.sample(frac=0.0075, random_state=42)"
   ]
  },
  {
   "cell_type": "code",
   "execution_count": 15,
   "metadata": {
    "collapsed": false
   },
   "outputs": [
    {
     "data": {
      "text/html": [
       "<div>\n",
       "<table border=\"1\" class=\"dataframe\">\n",
       "  <thead>\n",
       "    <tr style=\"text-align: right;\">\n",
       "      <th></th>\n",
       "      <th>click</th>\n",
       "      <th>weekday</th>\n",
       "      <th>hour</th>\n",
       "      <th>logtype</th>\n",
       "      <th>region</th>\n",
       "      <th>city</th>\n",
       "      <th>slotwidth</th>\n",
       "      <th>slotheight</th>\n",
       "      <th>slotprice</th>\n",
       "      <th>bidprice</th>\n",
       "      <th>payprice</th>\n",
       "      <th>advertiser</th>\n",
       "    </tr>\n",
       "  </thead>\n",
       "  <tbody>\n",
       "    <tr>\n",
       "      <th>count</th>\n",
       "      <td>2034.0</td>\n",
       "      <td>2034.000000</td>\n",
       "      <td>2034.000000</td>\n",
       "      <td>2034.0</td>\n",
       "      <td>2034.000000</td>\n",
       "      <td>2034.000000</td>\n",
       "      <td>2034.000000</td>\n",
       "      <td>2034.000000</td>\n",
       "      <td>2034.000000</td>\n",
       "      <td>2034.000000</td>\n",
       "      <td>2034.000000</td>\n",
       "      <td>2034.000000</td>\n",
       "    </tr>\n",
       "    <tr>\n",
       "      <th>mean</th>\n",
       "      <td>1.0</td>\n",
       "      <td>2.907080</td>\n",
       "      <td>14.201082</td>\n",
       "      <td>1.0</td>\n",
       "      <td>147.781219</td>\n",
       "      <td>152.887414</td>\n",
       "      <td>558.304818</td>\n",
       "      <td>173.038348</td>\n",
       "      <td>31.358407</td>\n",
       "      <td>272.923304</td>\n",
       "      <td>106.681908</td>\n",
       "      <td>2836.491150</td>\n",
       "    </tr>\n",
       "    <tr>\n",
       "      <th>std</th>\n",
       "      <td>0.0</td>\n",
       "      <td>1.911911</td>\n",
       "      <td>6.715450</td>\n",
       "      <td>0.0</td>\n",
       "      <td>102.787226</td>\n",
       "      <td>104.175613</td>\n",
       "      <td>314.657896</td>\n",
       "      <td>126.972432</td>\n",
       "      <td>42.686446</td>\n",
       "      <td>28.881477</td>\n",
       "      <td>68.435094</td>\n",
       "      <td>784.869524</td>\n",
       "    </tr>\n",
       "    <tr>\n",
       "      <th>min</th>\n",
       "      <td>1.0</td>\n",
       "      <td>0.000000</td>\n",
       "      <td>0.000000</td>\n",
       "      <td>1.0</td>\n",
       "      <td>0.000000</td>\n",
       "      <td>0.000000</td>\n",
       "      <td>120.000000</td>\n",
       "      <td>50.000000</td>\n",
       "      <td>0.000000</td>\n",
       "      <td>227.000000</td>\n",
       "      <td>5.000000</td>\n",
       "      <td>1458.000000</td>\n",
       "    </tr>\n",
       "    <tr>\n",
       "      <th>25%</th>\n",
       "      <td>1.0</td>\n",
       "      <td>1.000000</td>\n",
       "      <td>11.000000</td>\n",
       "      <td>1.0</td>\n",
       "      <td>79.000000</td>\n",
       "      <td>79.000000</td>\n",
       "      <td>300.000000</td>\n",
       "      <td>90.000000</td>\n",
       "      <td>0.000000</td>\n",
       "      <td>241.000000</td>\n",
       "      <td>61.000000</td>\n",
       "      <td>2261.000000</td>\n",
       "    </tr>\n",
       "    <tr>\n",
       "      <th>50%</th>\n",
       "      <td>1.0</td>\n",
       "      <td>3.000000</td>\n",
       "      <td>16.000000</td>\n",
       "      <td>1.0</td>\n",
       "      <td>146.000000</td>\n",
       "      <td>148.000000</td>\n",
       "      <td>336.000000</td>\n",
       "      <td>90.000000</td>\n",
       "      <td>5.000000</td>\n",
       "      <td>277.000000</td>\n",
       "      <td>84.000000</td>\n",
       "      <td>3358.000000</td>\n",
       "    </tr>\n",
       "    <tr>\n",
       "      <th>75%</th>\n",
       "      <td>1.0</td>\n",
       "      <td>5.000000</td>\n",
       "      <td>19.000000</td>\n",
       "      <td>1.0</td>\n",
       "      <td>216.000000</td>\n",
       "      <td>222.000000</td>\n",
       "      <td>960.000000</td>\n",
       "      <td>250.000000</td>\n",
       "      <td>70.000000</td>\n",
       "      <td>300.000000</td>\n",
       "      <td>152.000000</td>\n",
       "      <td>3427.000000</td>\n",
       "    </tr>\n",
       "    <tr>\n",
       "      <th>max</th>\n",
       "      <td>1.0</td>\n",
       "      <td>6.000000</td>\n",
       "      <td>23.000000</td>\n",
       "      <td>1.0</td>\n",
       "      <td>394.000000</td>\n",
       "      <td>399.000000</td>\n",
       "      <td>1000.000000</td>\n",
       "      <td>600.000000</td>\n",
       "      <td>280.000000</td>\n",
       "      <td>300.000000</td>\n",
       "      <td>300.000000</td>\n",
       "      <td>3476.000000</td>\n",
       "    </tr>\n",
       "  </tbody>\n",
       "</table>\n",
       "</div>"
      ],
      "text/plain": [
       "        click      weekday         hour  logtype       region         city  \\\n",
       "count  2034.0  2034.000000  2034.000000   2034.0  2034.000000  2034.000000   \n",
       "mean      1.0     2.907080    14.201082      1.0   147.781219   152.887414   \n",
       "std       0.0     1.911911     6.715450      0.0   102.787226   104.175613   \n",
       "min       1.0     0.000000     0.000000      1.0     0.000000     0.000000   \n",
       "25%       1.0     1.000000    11.000000      1.0    79.000000    79.000000   \n",
       "50%       1.0     3.000000    16.000000      1.0   146.000000   148.000000   \n",
       "75%       1.0     5.000000    19.000000      1.0   216.000000   222.000000   \n",
       "max       1.0     6.000000    23.000000      1.0   394.000000   399.000000   \n",
       "\n",
       "         slotwidth   slotheight    slotprice     bidprice     payprice  \\\n",
       "count  2034.000000  2034.000000  2034.000000  2034.000000  2034.000000   \n",
       "mean    558.304818   173.038348    31.358407   272.923304   106.681908   \n",
       "std     314.657896   126.972432    42.686446    28.881477    68.435094   \n",
       "min     120.000000    50.000000     0.000000   227.000000     5.000000   \n",
       "25%     300.000000    90.000000     0.000000   241.000000    61.000000   \n",
       "50%     336.000000    90.000000     5.000000   277.000000    84.000000   \n",
       "75%     960.000000   250.000000    70.000000   300.000000   152.000000   \n",
       "max    1000.000000   600.000000   280.000000   300.000000   300.000000   \n",
       "\n",
       "        advertiser  \n",
       "count  2034.000000  \n",
       "mean   2836.491150  \n",
       "std     784.869524  \n",
       "min    1458.000000  \n",
       "25%    2261.000000  \n",
       "50%    3358.000000  \n",
       "75%    3427.000000  \n",
       "max    3476.000000  "
      ]
     },
     "execution_count": 15,
     "metadata": {},
     "output_type": "execute_result"
    }
   ],
   "source": [
    "df_train_1.describe()"
   ]
  },
  {
   "cell_type": "code",
   "execution_count": 16,
   "metadata": {
    "collapsed": false
   },
   "outputs": [],
   "source": [
    "df_train = pd.concat([df_train_1, df_train_0])"
   ]
  },
  {
   "cell_type": "code",
   "execution_count": 17,
   "metadata": {
    "collapsed": false
   },
   "outputs": [
    {
     "data": {
      "text/html": [
       "<div>\n",
       "<table border=\"1\" class=\"dataframe\">\n",
       "  <thead>\n",
       "    <tr style=\"text-align: right;\">\n",
       "      <th></th>\n",
       "      <th>click</th>\n",
       "      <th>weekday</th>\n",
       "      <th>hour</th>\n",
       "      <th>logtype</th>\n",
       "      <th>region</th>\n",
       "      <th>city</th>\n",
       "      <th>slotwidth</th>\n",
       "      <th>slotheight</th>\n",
       "      <th>slotprice</th>\n",
       "      <th>bidprice</th>\n",
       "      <th>payprice</th>\n",
       "      <th>advertiser</th>\n",
       "    </tr>\n",
       "  </thead>\n",
       "  <tbody>\n",
       "    <tr>\n",
       "      <th>count</th>\n",
       "      <td>20218.0</td>\n",
       "      <td>20218.000000</td>\n",
       "      <td>20218.000000</td>\n",
       "      <td>20218.0</td>\n",
       "      <td>20218.000000</td>\n",
       "      <td>20218.000000</td>\n",
       "      <td>20218.000000</td>\n",
       "      <td>20218.000000</td>\n",
       "      <td>20218.000000</td>\n",
       "      <td>20218.000000</td>\n",
       "      <td>20218.000000</td>\n",
       "      <td>20218.000000</td>\n",
       "    </tr>\n",
       "    <tr>\n",
       "      <th>mean</th>\n",
       "      <td>0.0</td>\n",
       "      <td>2.876546</td>\n",
       "      <td>13.501187</td>\n",
       "      <td>1.0</td>\n",
       "      <td>150.419131</td>\n",
       "      <td>155.407211</td>\n",
       "      <td>573.690820</td>\n",
       "      <td>188.848798</td>\n",
       "      <td>25.936888</td>\n",
       "      <td>272.157385</td>\n",
       "      <td>80.950341</td>\n",
       "      <td>2847.736472</td>\n",
       "    </tr>\n",
       "    <tr>\n",
       "      <th>std</th>\n",
       "      <td>0.0</td>\n",
       "      <td>2.059820</td>\n",
       "      <td>6.564388</td>\n",
       "      <td>0.0</td>\n",
       "      <td>102.822674</td>\n",
       "      <td>104.124588</td>\n",
       "      <td>321.204173</td>\n",
       "      <td>130.082165</td>\n",
       "      <td>36.334224</td>\n",
       "      <td>29.195077</td>\n",
       "      <td>62.778863</td>\n",
       "      <td>779.927767</td>\n",
       "    </tr>\n",
       "    <tr>\n",
       "      <th>min</th>\n",
       "      <td>0.0</td>\n",
       "      <td>0.000000</td>\n",
       "      <td>0.000000</td>\n",
       "      <td>1.0</td>\n",
       "      <td>0.000000</td>\n",
       "      <td>0.000000</td>\n",
       "      <td>120.000000</td>\n",
       "      <td>50.000000</td>\n",
       "      <td>0.000000</td>\n",
       "      <td>227.000000</td>\n",
       "      <td>0.000000</td>\n",
       "      <td>1458.000000</td>\n",
       "    </tr>\n",
       "    <tr>\n",
       "      <th>25%</th>\n",
       "      <td>0.0</td>\n",
       "      <td>1.000000</td>\n",
       "      <td>10.000000</td>\n",
       "      <td>1.0</td>\n",
       "      <td>79.000000</td>\n",
       "      <td>79.000000</td>\n",
       "      <td>300.000000</td>\n",
       "      <td>90.000000</td>\n",
       "      <td>0.000000</td>\n",
       "      <td>241.000000</td>\n",
       "      <td>34.000000</td>\n",
       "      <td>2259.000000</td>\n",
       "    </tr>\n",
       "    <tr>\n",
       "      <th>50%</th>\n",
       "      <td>0.0</td>\n",
       "      <td>3.000000</td>\n",
       "      <td>14.000000</td>\n",
       "      <td>1.0</td>\n",
       "      <td>146.000000</td>\n",
       "      <td>152.000000</td>\n",
       "      <td>336.000000</td>\n",
       "      <td>90.000000</td>\n",
       "      <td>5.000000</td>\n",
       "      <td>294.000000</td>\n",
       "      <td>70.000000</td>\n",
       "      <td>3358.000000</td>\n",
       "    </tr>\n",
       "    <tr>\n",
       "      <th>75%</th>\n",
       "      <td>0.0</td>\n",
       "      <td>5.000000</td>\n",
       "      <td>19.000000</td>\n",
       "      <td>1.0</td>\n",
       "      <td>216.000000</td>\n",
       "      <td>223.000000</td>\n",
       "      <td>960.000000</td>\n",
       "      <td>250.000000</td>\n",
       "      <td>50.000000</td>\n",
       "      <td>300.000000</td>\n",
       "      <td>103.000000</td>\n",
       "      <td>3427.000000</td>\n",
       "    </tr>\n",
       "    <tr>\n",
       "      <th>max</th>\n",
       "      <td>0.0</td>\n",
       "      <td>6.000000</td>\n",
       "      <td>23.000000</td>\n",
       "      <td>1.0</td>\n",
       "      <td>395.000000</td>\n",
       "      <td>399.000000</td>\n",
       "      <td>1000.000000</td>\n",
       "      <td>600.000000</td>\n",
       "      <td>284.000000</td>\n",
       "      <td>300.000000</td>\n",
       "      <td>300.000000</td>\n",
       "      <td>3476.000000</td>\n",
       "    </tr>\n",
       "  </tbody>\n",
       "</table>\n",
       "</div>"
      ],
      "text/plain": [
       "         click       weekday          hour  logtype        region  \\\n",
       "count  20218.0  20218.000000  20218.000000  20218.0  20218.000000   \n",
       "mean       0.0      2.876546     13.501187      1.0    150.419131   \n",
       "std        0.0      2.059820      6.564388      0.0    102.822674   \n",
       "min        0.0      0.000000      0.000000      1.0      0.000000   \n",
       "25%        0.0      1.000000     10.000000      1.0     79.000000   \n",
       "50%        0.0      3.000000     14.000000      1.0    146.000000   \n",
       "75%        0.0      5.000000     19.000000      1.0    216.000000   \n",
       "max        0.0      6.000000     23.000000      1.0    395.000000   \n",
       "\n",
       "               city     slotwidth    slotheight     slotprice      bidprice  \\\n",
       "count  20218.000000  20218.000000  20218.000000  20218.000000  20218.000000   \n",
       "mean     155.407211    573.690820    188.848798     25.936888    272.157385   \n",
       "std      104.124588    321.204173    130.082165     36.334224     29.195077   \n",
       "min        0.000000    120.000000     50.000000      0.000000    227.000000   \n",
       "25%       79.000000    300.000000     90.000000      0.000000    241.000000   \n",
       "50%      152.000000    336.000000     90.000000      5.000000    294.000000   \n",
       "75%      223.000000    960.000000    250.000000     50.000000    300.000000   \n",
       "max      399.000000   1000.000000    600.000000    284.000000    300.000000   \n",
       "\n",
       "           payprice    advertiser  \n",
       "count  20218.000000  20218.000000  \n",
       "mean      80.950341   2847.736472  \n",
       "std       62.778863    779.927767  \n",
       "min        0.000000   1458.000000  \n",
       "25%       34.000000   2259.000000  \n",
       "50%       70.000000   3358.000000  \n",
       "75%      103.000000   3427.000000  \n",
       "max      300.000000   3476.000000  "
      ]
     },
     "execution_count": 17,
     "metadata": {},
     "output_type": "execute_result"
    }
   ],
   "source": [
    "df_train_0.describe()"
   ]
  },
  {
   "cell_type": "markdown",
   "metadata": {},
   "source": [
    "## Feature extraction & hashing"
   ]
  },
  {
   "cell_type": "code",
   "execution_count": 18,
   "metadata": {
    "collapsed": false
   },
   "outputs": [
    {
     "data": {
      "text/plain": [
       "Index(['click', 'weekday', 'hour', 'bidid', 'logtype', 'userid', 'useragent',\n",
       "       'IP', 'region', 'city', 'adexchange', 'domain', 'url', 'urlid',\n",
       "       'slotid', 'slotwidth', 'slotheight', 'slotvisibility', 'slotformat',\n",
       "       'slotprice', 'creative', 'bidprice', 'payprice', 'keypage',\n",
       "       'advertiser', 'usertag'],\n",
       "      dtype='object')"
      ]
     },
     "execution_count": 18,
     "metadata": {},
     "output_type": "execute_result"
    }
   ],
   "source": [
    "df_train.columns"
   ]
  },
  {
   "cell_type": "code",
   "execution_count": 19,
   "metadata": {
    "collapsed": false
   },
   "outputs": [],
   "source": [
    "header_train = [u'click', u'weekday', u'hour', u'bidid', u'logtype', u'userid', u'useragent',\n",
    "       u'IP', u'region', u'city', u'adexchange', u'domain', u'url', u'urlid',\n",
    "       u'slotid', u'slotwidth', u'slotheight', u'slotvisibility', u'slotformat',\n",
    "       u'slotprice', u'creative', u'bidprice', u'payprice', u'keypage',\n",
    "       u'advertiser', u'usertag']\n",
    "X_header = [u'click', u'weekday', u'hour', u'bidid', u'logtype', u'userid', u'useragent',\n",
    "       u'IP', u'region', u'city', u'adexchange', u'domain', u'url', u'urlid',\n",
    "       u'slotid', u'slotwidth', u'slotheight', u'slotvisibility', u'slotformat',\n",
    "       u'slotprice', u'creative', u'bidprice', u'payprice', u'keypage',\n",
    "       u'advertiser', u'usertag']\n"
   ]
  },
  {
   "cell_type": "code",
   "execution_count": 20,
   "metadata": {
    "collapsed": true
   },
   "outputs": [],
   "source": [
    "df_train.columns = header_train\n",
    "X = np.array(df_train[X_header])"
   ]
  },
  {
   "cell_type": "code",
   "execution_count": 21,
   "metadata": {
    "collapsed": false
   },
   "outputs": [
    {
     "data": {
      "text/plain": [
       "array([1, 6, 16, '61868b8d67b4a94f917cb98cb579578f', 1,\n",
       "       'u_Vhk7PrMPOZM6GQ2', 'windows_ie', '1.86.243.*', 333, 334, '2',\n",
       "       'trqRTuMvjTN7X9KbuKz', '9d960a6b69c7a2ca69625dec449e338a', 'null',\n",
       "       '593718700', 728, 90, '0', '0', 192,\n",
       "       '4ad7e35171a3d8de73bb862791575f2e', 238, 216,\n",
       "       'd29e59bf0f7f8243858b8183f14d4412', 3358,\n",
       "       '10083,13776,10059,10057,10110'], dtype=object)"
      ]
     },
     "execution_count": 21,
     "metadata": {},
     "output_type": "execute_result"
    }
   ],
   "source": [
    "X[0]"
   ]
  },
  {
   "cell_type": "code",
   "execution_count": 22,
   "metadata": {
    "collapsed": false
   },
   "outputs": [],
   "source": [
    "D = 50000\n",
    "\n",
    "def process_row(line, header):\n",
    "    rst = []\n",
    "    non_use_keys = set(['logtype', 'click', 'bidid', 'bidprice', 'payprice'])\n",
    "    for key,value in zip(header, line):\n",
    "        value = str(value)\n",
    "        key = str(key)\n",
    "        if value == '' or key in non_use_keys:\n",
    "            continue\n",
    "#         elif key == 'timestamp':\n",
    "#             rst += ['time_day_'+value[6:8]]\n",
    "        elif key == 'useragent':\n",
    "            value = value.split('_')\n",
    "            rst += ['useragent_os_'+value[0]]\n",
    "            rst += ['useragent_browser_'+value[1]]\n",
    "        elif key == 'usertag':\n",
    "            for sub_value in value.split(','):\n",
    "                rst += ['usertags_'+str(sub_value)]\n",
    "        else:\n",
    "            rst += [key+'_'+value]\n",
    "    return [abs(hash(v)) % D for v in rst]"
   ]
  },
  {
   "cell_type": "code",
   "execution_count": 23,
   "metadata": {
    "collapsed": false
   },
   "outputs": [],
   "source": [
    "X = [process_row(x, X_header) for x in X]"
   ]
  },
  {
   "cell_type": "code",
   "execution_count": 24,
   "metadata": {
    "collapsed": false
   },
   "outputs": [],
   "source": [
    "#np.std([len(x) for x in X])"
   ]
  },
  {
   "cell_type": "code",
   "execution_count": 25,
   "metadata": {
    "collapsed": false
   },
   "outputs": [],
   "source": [
    "Y = np.array(df_train[['bidid', 'click', 'payprice']])"
   ]
  },
  {
   "cell_type": "code",
   "execution_count": 26,
   "metadata": {
    "collapsed": true
   },
   "outputs": [],
   "source": [
    "with open('train.xyz.csv','w') as f:\n",
    "    for y, x in zip(Y, X):\n",
    "        line = ','.join(map(str, y)) + ',' + ','.join(map(str, x)) + '\\n'\n",
    "        f.write(line)"
   ]
  },
  {
   "cell_type": "code",
   "execution_count": 27,
   "metadata": {
    "collapsed": true
   },
   "outputs": [],
   "source": [
    "# for validation data\n",
    "\n",
    "X_val = np.array(df_validation[X_header])\n",
    "df_validation.columns = header_train\n",
    "X_val = np.array(df_validation[X_header])\n",
    "Y_val = np.array(df_validation[['bidid', 'click', 'payprice']])\n",
    "X_val = [process_row(x, X_header) for x in X_val]\n"
   ]
  },
  {
   "cell_type": "code",
   "execution_count": 28,
   "metadata": {
    "collapsed": true
   },
   "outputs": [],
   "source": [
    "with open('validation.xyz.csv','w') as f:\n",
    "    for y, x in zip(Y_val, X_val):\n",
    "        line = ','.join(map(str, y)) + ',' + ','.join(map(str, x)) + '\\n'\n",
    "        f.write(line)"
   ]
  },
  {
   "cell_type": "code",
   "execution_count": 29,
   "metadata": {
    "collapsed": false
   },
   "outputs": [],
   "source": [
    "# for test data\n",
    "header_test = [u'weekday', u'hour', u'bidid', u'logtype',\n",
    "       u'userid', u'useragent', u'IP', u'region', u'city', u'adexchange',\n",
    "       u'domain', u'url', u'urlid', u'slotid', u'slotwidth', u'slotheight',\n",
    "       u'slotvisibility', u'slotformat', u'slotprice', u'creative',\n",
    "        u'keypage', u'advertiser', u'usertag']\n",
    "X_header = [u'weekday', u'hour', u'bidid', u'logtype',\n",
    "       u'userid', u'useragent', u'IP', u'region', u'city', u'adexchange',\n",
    "       u'domain', u'url', u'urlid', u'slotid', u'slotwidth', u'slotheight',\n",
    "       u'slotvisibility', u'slotformat', u'slotprice', u'creative',\n",
    "     u'keypage', u'advertiser', u'usertag']\n",
    "\n",
    "df_test.columns = header_test\n",
    "X_test = np.array(df_test[X_header])\n",
    "Y_test = np.array(df_test[['bidid']])\n",
    "X_test = [process_row(x, X_header) for x in X_test]"
   ]
  },
  {
   "cell_type": "code",
   "execution_count": 30,
   "metadata": {
    "collapsed": true
   },
   "outputs": [],
   "source": [
    "with open('test.xyz.csv','w') as f:\n",
    "    for y, x in zip(Y_test, X_test):\n",
    "        line = ','.join(map(str, y)) + ',' + ','.join(map(str, x)) + '\\n'\n",
    "        f.write(line)"
   ]
  },
  {
   "cell_type": "code",
   "execution_count": 31,
   "metadata": {
    "collapsed": false
   },
   "outputs": [],
   "source": [
    "X = []\n",
    "Y = []\n",
    "with open('train.xyz.csv','r') as f:\n",
    "    for row in f.readlines():\n",
    "        r = row.strip().split(',')\n",
    "        Y.append(r[0:3])\n",
    "        X.append(list(map(int,r[3:])))\n",
    "               \n",
    "X_val = []\n",
    "Y_val = []\n",
    "with open('validation.xyz.csv','r') as f:\n",
    "    for row in f.readlines():\n",
    "        r = row.strip().split(',')\n",
    "        Y_val.append(r[0:3])\n",
    "        X_val.append(list(map(int,r[3:])))\n",
    "        \n",
    "X_test = []\n",
    "Y_test = []\n",
    "with open('test.xyz.csv','r') as f:\n",
    "    for row in f.readlines():\n",
    "        r = row.strip().split(',')\n",
    "        Y_test.append(r[0:1])\n",
    "        X_test.append(list(map(int,r[1:])))"
   ]
  },
  {
   "cell_type": "code",
   "execution_count": 32,
   "metadata": {
    "collapsed": false,
    "scrolled": true
   },
   "outputs": [],
   "source": [
    "#X[0]"
   ]
  },
  {
   "cell_type": "code",
   "execution_count": 33,
   "metadata": {
    "collapsed": false
   },
   "outputs": [],
   "source": [
    "X = np.array([np.array(x, dtype=np.int32) for x in X])\n",
    "X_val = np.array([np.array(x, dtype=np.int32) for x in X_val])\n",
    "X_test = np.array([np.array(x, dtype=np.int32) for x in X_test])\n",
    "Y = np.array(Y)\n",
    "shuffle = np.random.permutation(len(Y))\n",
    "X = X[shuffle]\n",
    "Y = Y[shuffle]\n",
    "\n",
    "from sklearn.feature_extraction import DictVectorizer\n",
    "train = [{str(xx):1 for xx in x} for x in X]\n",
    "val = [{str(xx):1 for xx in x} for x in X_val]\n",
    "test = [{str(xx):1 for xx in x} for x in X_test]\n",
    "v = DictVectorizer()\n",
    "\n",
    "X_FM = v.fit_transform(train)\n",
    "X_val_FM = v.transform(val)\n",
    "X_test_FM = v.fit_transform(test)\n",
    "\n",
    "Y_val = np.array(Y_val)\n",
    "target = np.array(Y[:,1], dtype=np.int32)\n",
    "target_val = np.array(Y_val[:,1], dtype=np.int32)"
   ]
  },
  {
   "cell_type": "markdown",
   "metadata": {},
   "source": [
    "# Model"
   ]
  },
  {
   "cell_type": "code",
   "execution_count": 34,
   "metadata": {
    "collapsed": true
   },
   "outputs": [],
   "source": [
    "#Random Forest\n",
    "#FM\n",
    "#LR\n",
    "#elastic net\n",
    "#xgb\n",
    "#nn\n",
    "\n",
    "#stacking"
   ]
  },
  {
   "cell_type": "code",
   "execution_count": 35,
   "metadata": {
    "collapsed": true
   },
   "outputs": [],
   "source": [
    "# Caculate the calibrated CTR\n",
    "def Cali_CTR(p, w):\n",
    "\n",
    "    cali_ctr = p/(p+(1-p)/w)\n",
    "\n",
    "    return cali_ctr   "
   ]
  },
  {
   "cell_type": "code",
   "execution_count": 36,
   "metadata": {
    "collapsed": true
   },
   "outputs": [],
   "source": [
    "# Caculate the root mean square rooot\n",
    "def rmse(predictions, targets):\n",
    "\n",
    "    differences = predictions - targets                       #the DIFFERENCEs.\n",
    "\n",
    "    differences_squared = differences ** 2                    #the SQUAREs of ^\n",
    "\n",
    "    mean_of_differences_squared = differences_squared.mean()  #the MEAN of ^\n",
    "\n",
    "    rmse_val = np.sqrt(mean_of_differences_squared)           #ROOT of ^\n",
    "\n",
    "    return rmse_val     #get the ^"
   ]
  },
  {
   "cell_type": "markdown",
   "metadata": {
    "collapsed": true
   },
   "source": [
    "## Adaboost"
   ]
  },
  {
   "cell_type": "code",
   "execution_count": 45,
   "metadata": {
    "collapsed": false
   },
   "outputs": [],
   "source": [
    "from sklearn.datasets import load_iris\n",
    "from sklearn.ensemble import AdaBoostRegressor"
   ]
  },
  {
   "cell_type": "code",
   "execution_count": 46,
   "metadata": {
    "collapsed": false
   },
   "outputs": [],
   "source": [
    "iris = load_iris()\n",
    "clf1 = AdaBoostRegressor(base_estimator= None,\n",
    "                            n_estimators=70, \n",
    "                            learning_rate=0.1, \n",
    "                            loss='square', \n",
    "                            random_state=1)"
   ]
  },
  {
   "cell_type": "code",
   "execution_count": 47,
   "metadata": {
    "collapsed": false
   },
   "outputs": [
    {
     "data": {
      "text/plain": [
       "AdaBoostRegressor(base_estimator=None, learning_rate=0.1, loss='square',\n",
       "         n_estimators=70, random_state=1)"
      ]
     },
     "execution_count": 47,
     "metadata": {},
     "output_type": "execute_result"
    }
   ],
   "source": [
    "clf1.fit(X_FM,target)"
   ]
  },
  {
   "cell_type": "code",
   "execution_count": 48,
   "metadata": {
    "collapsed": false
   },
   "outputs": [],
   "source": [
    "y_pred_ada = clf1.predict(X_val_FM)\n",
    "Cali_ada = Cali_CTR(y_pred_ada, 0.0075)"
   ]
  },
  {
   "cell_type": "code",
   "execution_count": 49,
   "metadata": {
    "collapsed": false
   },
   "outputs": [
    {
     "name": "stdout",
     "output_type": "stream",
     "text": [
      "auc on test:  0.826544530287\n",
      "RMSE on test dataset = 0.03\n"
     ]
    }
   ],
   "source": [
    "fpr, tpr, thresholds = metrics.roc_curve(target_val, Cali_ada, pos_label=1)\n",
    "auc = metrics.auc(fpr, tpr)\n",
    "\n",
    "print('auc on test: ', auc)\n",
    "print (\"RMSE on test dataset = %.2f\" % (rmse(target_val, Cali_ada)))"
   ]
  },
  {
   "cell_type": "markdown",
   "metadata": {},
   "source": [
    "## Nearest Centroid Classifier"
   ]
  },
  {
   "cell_type": "code",
   "execution_count": 55,
   "metadata": {
    "collapsed": false
   },
   "outputs": [
    {
     "data": {
      "text/plain": [
       "NearestCentroid(metric='euclidean', shrink_threshold=None)"
      ]
     },
     "execution_count": 55,
     "metadata": {},
     "output_type": "execute_result"
    }
   ],
   "source": [
    "from sklearn.neighbors.nearest_centroid import NearestCentroid\n",
    "neighbor_clf = NearestCentroid()\n",
    "neighbor_clf.fit(X_FM,target)"
   ]
  },
  {
   "cell_type": "code",
   "execution_count": 56,
   "metadata": {
    "collapsed": true
   },
   "outputs": [],
   "source": [
    "y_pred_neighbor = neighbor_clf.predict(X_val_FM)\n",
    "Cali_neighbor = Cali_CTR(y_pred_neighbor, 0.0075)"
   ]
  },
  {
   "cell_type": "code",
   "execution_count": 57,
   "metadata": {
    "collapsed": false
   },
   "outputs": [
    {
     "name": "stdout",
     "output_type": "stream",
     "text": [
      "auc on test:  0.612920480142\n",
      "RMSE on test dataset = 0.50\n"
     ]
    }
   ],
   "source": [
    "fpr, tpr, thresholds = metrics.roc_curve(target_val, Cali_neighbor, pos_label=1)\n",
    "auc = metrics.auc(fpr, tpr)\n",
    "\n",
    "print('auc on test: ', auc)\n",
    "print (\"RMSE on test dataset = %.2f\" % (rmse(target_val, Cali_neighbor)))"
   ]
  },
  {
   "cell_type": "markdown",
   "metadata": {},
   "source": [
    "## use pipeline to select feature SVC+Adaboost"
   ]
  },
  {
   "cell_type": "code",
   "execution_count": 58,
   "metadata": {
    "collapsed": true
   },
   "outputs": [],
   "source": [
    "from sklearn.feature_selection import SelectFromModel\n",
    "from sklearn.datasets import load_iris\n",
    "from sklearn.ensemble import AdaBoostRegressor\n",
    "from sklearn.svm import LinearSVC"
   ]
  },
  {
   "cell_type": "code",
   "execution_count": 59,
   "metadata": {
    "collapsed": false
   },
   "outputs": [
    {
     "data": {
      "text/plain": [
       "Pipeline(steps=[('feature_selection', SelectFromModel(estimator=LinearSVC(C=1.0, class_weight=None, dual=True, fit_intercept=True,\n",
       "     intercept_scaling=1, loss='squared_hinge', max_iter=1000,\n",
       "     multi_class='ovr', penalty='l2', random_state=None, tol=0.0001,\n",
       "     verbose=0),\n",
       "        prefit=False, threshold=None)), ('classification', AdaBoostRegressor(base_estimator=None, learning_rate=0.1, loss='square',\n",
       "         n_estimators=80, random_state=None))])"
      ]
     },
     "execution_count": 59,
     "metadata": {},
     "output_type": "execute_result"
    }
   ],
   "source": [
    "from sklearn.pipeline import Pipeline\n",
    "clf = Pipeline([\n",
    "  ('feature_selection', SelectFromModel(LinearSVC())),\n",
    "  ('classification', AdaBoostRegressor(base_estimator= None,\n",
    "                            n_estimators=80, \n",
    "                            learning_rate=0.1, \n",
    "                            loss='square', \n",
    "                            random_state=None))\n",
    "])\n",
    "clf.fit(X_FM,target)"
   ]
  },
  {
   "cell_type": "code",
   "execution_count": 60,
   "metadata": {
    "collapsed": true
   },
   "outputs": [],
   "source": [
    "y_pred_svc_ada = clf.predict(X_val_FM)\n",
    "Cali_svc_ada = Cali_CTR(y_pred_svc_ada, 0.0075)"
   ]
  },
  {
   "cell_type": "code",
   "execution_count": 61,
   "metadata": {
    "collapsed": false
   },
   "outputs": [
    {
     "name": "stdout",
     "output_type": "stream",
     "text": [
      "auc on test:  0.819003897613\n",
      "RMSE on test dataset = 0.03\n"
     ]
    }
   ],
   "source": [
    "fpr, tpr, thresholds = metrics.roc_curve(target_val, Cali_svc_ada, pos_label=1)\n",
    "auc = metrics.auc(fpr, tpr)\n",
    "\n",
    "print('auc on test: ', auc)\n",
    "print (\"RMSE on test dataset = %.2f\" % (rmse(target_val, Cali_svc_ada)))"
   ]
  },
  {
   "cell_type": "markdown",
   "metadata": {},
   "source": [
    "## use pipeline to select feature gb+Adaboost"
   ]
  },
  {
   "cell_type": "code",
   "execution_count": 62,
   "metadata": {
    "collapsed": true
   },
   "outputs": [],
   "source": [
    "from sklearn.feature_selection import SelectFromModel\n",
    "from sklearn.datasets import load_iris\n",
    "from sklearn.ensemble import AdaBoostRegressor\n",
    "from sklearn.ensemble import ExtraTreesClassifier\n",
    "from xgboost import XGBClassifier\n",
    "from sklearn.ensemble import GradientBoostingClassifier"
   ]
  },
  {
   "cell_type": "code",
   "execution_count": 63,
   "metadata": {
    "collapsed": false,
    "scrolled": true
   },
   "outputs": [
    {
     "data": {
      "text/plain": [
       "Pipeline(steps=[('feature_selection', SelectFromModel(estimator=GradientBoostingClassifier(criterion='friedman_mse', init=None,\n",
       "              learning_rate=0.1, loss='deviance', max_depth=None,\n",
       "              max_features=None, max_leaf_nodes=None,\n",
       "              min_impurity_split=1e-07, min_samples_leaf=1,\n",
       " ...ase_estimator=None, learning_rate=0.1, loss='square',\n",
       "         n_estimators=80, random_state=None))])"
      ]
     },
     "execution_count": 63,
     "metadata": {},
     "output_type": "execute_result"
    }
   ],
   "source": [
    "from sklearn.pipeline import Pipeline\n",
    "clf = Pipeline([\n",
    "  ('feature_selection', SelectFromModel(GradientBoostingClassifier(n_estimators=100, learning_rate=0.1,max_depth=None, random_state=None))),\n",
    "  ('classification', AdaBoostRegressor(base_estimator= None,\n",
    "                            n_estimators=80, \n",
    "                            learning_rate=0.1, \n",
    "                            loss='square', \n",
    "                            random_state=None))\n",
    "])\n",
    "clf.fit(X_FM,target)\n",
    "\n",
    "#clf = GradientBoostingClassifier(n_estimators=100, learning_rate=1.0,\n",
    "#...     max_depth=1, random_state=0)"
   ]
  },
  {
   "cell_type": "code",
   "execution_count": 64,
   "metadata": {
    "collapsed": true
   },
   "outputs": [],
   "source": [
    "y_pred_xgb_ada = clf.predict(X_val_FM)\n",
    "Cali_xgb_ada = Cali_CTR(y_pred_xgb_ada, 0.0075)"
   ]
  },
  {
   "cell_type": "code",
   "execution_count": 65,
   "metadata": {
    "collapsed": false
   },
   "outputs": [
    {
     "name": "stdout",
     "output_type": "stream",
     "text": [
      "auc on test:  0.846247967897\n",
      "RMSE on test dataset = 0.03\n"
     ]
    }
   ],
   "source": [
    "fpr, tpr, thresholds = metrics.roc_curve(target_val, Cali_xgb_ada, pos_label=1)\n",
    "auc = metrics.auc(fpr, tpr)\n",
    "\n",
    "print('auc on test: ', auc)\n",
    "print (\"RMSE on test dataset = %.2f\" % (rmse(target_val, Cali_xgb_ada)))"
   ]
  },
  {
   "cell_type": "markdown",
   "metadata": {
    "collapsed": true
   },
   "source": [
    "## evaluation"
   ]
  },
  {
   "cell_type": "code",
   "execution_count": 95,
   "metadata": {
    "collapsed": true
   },
   "outputs": [],
   "source": [
    "def evaluation (pBidprice, payprice, clicks, budget=6500):\n",
    "    win_num = 0.\n",
    "    total_cost = 0.\n",
    "    click_num = 0.\n",
    "    for i in range(0, len(payprice)):\n",
    "        if pBidprice[i] >= payprice[i]:\n",
    "            if total_cost + payprice[i] / 1000. > budget:\n",
    "                break\n",
    "            win_num = win_num + 1\n",
    "            total_cost = total_cost + payprice[i] / 1000.\n",
    "            click_num += clicks[i]\n",
    "    ctr = click_num / win_num\n",
    "    cpc = total_cost / click_num\n",
    "    print('win_num {}, total_cost {}, click_num {}, ctr {}, cpc {}'.format(win_num, total_cost, click_num, ctr, cpc))\n",
    "    return win_num, total_cost, click_num, ctr, cpc"
   ]
  },
  {
   "cell_type": "code",
   "execution_count": 96,
   "metadata": {
    "collapsed": true
   },
   "outputs": [],
   "source": [
    "def pbidprice(ctr, base_bid):\n",
    "    pbid = []\n",
    "    for i in range(len(ctr)):\n",
    "        p = base_bid * (ctr[i]*10000/7.539)\n",
    "        pbid.append(p)\n",
    "\n",
    "    return pbid"
   ]
  },
  {
   "cell_type": "markdown",
   "metadata": {},
   "source": [
    "### ctr"
   ]
  },
  {
   "cell_type": "code",
   "execution_count": 97,
   "metadata": {
    "collapsed": false
   },
   "outputs": [],
   "source": [
    "Payprice_val = np.array(Y_val[:,2], dtype=np.int32)\n",
    "clicks = np.array(Y_val[:,1], dtype=np.int32)\n",
    "pCTR = Cali_xgb_ada"
   ]
  },
  {
   "cell_type": "code",
   "execution_count": 99,
   "metadata": {
    "collapsed": false
   },
   "outputs": [
    {
     "name": "stdout",
     "output_type": "stream",
     "text": [
      "win_num 81228.0, total_cost 6499.998000000955, click_num 71.0, ctr 0.0008740828285812774, cpc 91.54926760564724\n",
      "win_num 81228.0, total_cost 6499.998000000955, click_num 71.0, ctr 0.0008740828285812774, cpc 91.54926760564724\n",
      "win_num 81228.0, total_cost 6499.998000000955, click_num 71.0, ctr 0.0008740828285812774, cpc 91.54926760564724\n",
      "win_num 81228.0, total_cost 6499.998000000955, click_num 71.0, ctr 0.0008740828285812774, cpc 91.54926760564724\n",
      "win_num 81228.0, total_cost 6499.998000000955, click_num 71.0, ctr 0.0008740828285812774, cpc 91.54926760564724\n",
      "win_num 81228.0, total_cost 6499.998000000955, click_num 71.0, ctr 0.0008740828285812774, cpc 91.54926760564724\n",
      "win_num 81228.0, total_cost 6499.998000000955, click_num 71.0, ctr 0.0008740828285812774, cpc 91.54926760564724\n",
      "win_num 81228.0, total_cost 6499.998000000955, click_num 71.0, ctr 0.0008740828285812774, cpc 91.54926760564724\n",
      "win_num 81228.0, total_cost 6499.998000000955, click_num 71.0, ctr 0.0008740828285812774, cpc 91.54926760564724\n",
      "win_num 81228.0, total_cost 6499.998000000955, click_num 71.0, ctr 0.0008740828285812774, cpc 91.54926760564724\n",
      "win_num 81228.0, total_cost 6499.998000000955, click_num 71.0, ctr 0.0008740828285812774, cpc 91.54926760564724\n",
      "win_num 81228.0, total_cost 6499.998000000955, click_num 71.0, ctr 0.0008740828285812774, cpc 91.54926760564724\n",
      "win_num 81228.0, total_cost 6499.998000000955, click_num 71.0, ctr 0.0008740828285812774, cpc 91.54926760564724\n",
      "win_num 81228.0, total_cost 6499.998000000955, click_num 71.0, ctr 0.0008740828285812774, cpc 91.54926760564724\n",
      "win_num 81228.0, total_cost 6499.998000000955, click_num 71.0, ctr 0.0008740828285812774, cpc 91.54926760564724\n",
      "win_num 81228.0, total_cost 6499.998000000955, click_num 71.0, ctr 0.0008740828285812774, cpc 91.54926760564724\n",
      "win_num 81228.0, total_cost 6499.998000000955, click_num 71.0, ctr 0.0008740828285812774, cpc 91.54926760564724\n",
      "win_num 81228.0, total_cost 6499.998000000955, click_num 71.0, ctr 0.0008740828285812774, cpc 91.54926760564724\n",
      "win_num 81228.0, total_cost 6499.998000000955, click_num 71.0, ctr 0.0008740828285812774, cpc 91.54926760564724\n",
      "win_num 81228.0, total_cost 6499.998000000955, click_num 71.0, ctr 0.0008740828285812774, cpc 91.54926760564724\n",
      "win_num 81228.0, total_cost 6499.998000000955, click_num 71.0, ctr 0.0008740828285812774, cpc 91.54926760564724\n",
      "win_num 81228.0, total_cost 6499.998000000955, click_num 71.0, ctr 0.0008740828285812774, cpc 91.54926760564724\n",
      "win_num 81228.0, total_cost 6499.998000000955, click_num 71.0, ctr 0.0008740828285812774, cpc 91.54926760564724\n",
      "win_num 81228.0, total_cost 6499.998000000955, click_num 71.0, ctr 0.0008740828285812774, cpc 91.54926760564724\n",
      "win_num 81228.0, total_cost 6499.998000000955, click_num 71.0, ctr 0.0008740828285812774, cpc 91.54926760564724\n",
      "win_num 81228.0, total_cost 6499.998000000955, click_num 71.0, ctr 0.0008740828285812774, cpc 91.54926760564724\n",
      "win_num 81228.0, total_cost 6499.998000000955, click_num 71.0, ctr 0.0008740828285812774, cpc 91.54926760564724\n",
      "win_num 81228.0, total_cost 6499.998000000955, click_num 71.0, ctr 0.0008740828285812774, cpc 91.54926760564724\n",
      "win_num 81228.0, total_cost 6499.998000000955, click_num 71.0, ctr 0.0008740828285812774, cpc 91.54926760564724\n",
      "win_num 81228.0, total_cost 6499.998000000955, click_num 71.0, ctr 0.0008740828285812774, cpc 91.54926760564724\n",
      "180.0\n"
     ]
    }
   ],
   "source": [
    "base = 150.\n",
    "bidp = []\n",
    "win_number = []\n",
    "totalcost = []\n",
    "clicknum = []\n",
    "ctr_p = []\n",
    "cpc_p = []\n",
    "for i in range(30):\n",
    "    bid_p = pbidprice(Cali_xgb_ada, base)\n",
    "    win_num, total_cost, click_num, ctr, cpc = evaluation(bid_p,Payprice_val, clicks)\n",
    "    base += 1\n",
    "print(base)"
   ]
  },
  {
   "cell_type": "code",
   "execution_count": null,
   "metadata": {
    "collapsed": true
   },
   "outputs": [],
   "source": []
  }
 ],
 "metadata": {
  "anaconda-cloud": {},
  "kernelspec": {
   "display_name": "Python [default]",
   "language": "python",
   "name": "python3"
  },
  "language_info": {
   "codemirror_mode": {
    "name": "ipython",
    "version": 3
   },
   "file_extension": ".py",
   "mimetype": "text/x-python",
   "name": "python",
   "nbconvert_exporter": "python",
   "pygments_lexer": "ipython3",
   "version": "3.5.2"
  }
 },
 "nbformat": 4,
 "nbformat_minor": 1
}
